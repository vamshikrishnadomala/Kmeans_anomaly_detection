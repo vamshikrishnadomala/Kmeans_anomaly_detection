{
 "cells": [
  {
   "cell_type": "code",
   "execution_count": 1,
   "id": "d06bb762",
   "metadata": {},
   "outputs": [],
   "source": [
    "#name: Domala Vamshikrishna\n",
    "#Model: Kmeans\n",
    "#Date: 28-01-2022"
   ]
  },
  {
   "cell_type": "code",
   "execution_count": 2,
   "id": "929628ed",
   "metadata": {},
   "outputs": [],
   "source": [
    "from sklearn.cluster import KMeans\n",
    "from numpy import sqrt, random, array, argsort\n",
    "from sklearn.preprocessing import scale\n",
    "import pandas as pd\n",
    "import matplotlib.pyplot as plt"
   ]
  },
  {
   "cell_type": "code",
   "execution_count": 3,
   "id": "7604b272",
   "metadata": {},
   "outputs": [],
   "source": [
    "df=pd.read_excel(\"S&P 500 VIX Futures_jan_24.xlsx\")"
   ]
  },
  {
   "cell_type": "code",
   "execution_count": 4,
   "id": "b123d59d",
   "metadata": {},
   "outputs": [
    {
     "data": {
      "text/html": [
       "<div>\n",
       "<style scoped>\n",
       "    .dataframe tbody tr th:only-of-type {\n",
       "        vertical-align: middle;\n",
       "    }\n",
       "\n",
       "    .dataframe tbody tr th {\n",
       "        vertical-align: top;\n",
       "    }\n",
       "\n",
       "    .dataframe thead th {\n",
       "        text-align: right;\n",
       "    }\n",
       "</style>\n",
       "<table border=\"1\" class=\"dataframe\">\n",
       "  <thead>\n",
       "    <tr style=\"text-align: right;\">\n",
       "      <th></th>\n",
       "      <th>Date</th>\n",
       "      <th>Price</th>\n",
       "      <th>Open</th>\n",
       "      <th>High</th>\n",
       "      <th>Low</th>\n",
       "      <th>Vol.</th>\n",
       "      <th>Change %</th>\n",
       "    </tr>\n",
       "  </thead>\n",
       "  <tbody>\n",
       "    <tr>\n",
       "      <th>0</th>\n",
       "      <td>2010-01-01</td>\n",
       "      <td>23.02</td>\n",
       "      <td>23.02</td>\n",
       "      <td>23.02</td>\n",
       "      <td>23.02</td>\n",
       "      <td>-</td>\n",
       "      <td>0.0000</td>\n",
       "    </tr>\n",
       "    <tr>\n",
       "      <th>1</th>\n",
       "      <td>2010-01-04</td>\n",
       "      <td>22.08</td>\n",
       "      <td>23.02</td>\n",
       "      <td>23.02</td>\n",
       "      <td>22.08</td>\n",
       "      <td>-</td>\n",
       "      <td>-0.0413</td>\n",
       "    </tr>\n",
       "    <tr>\n",
       "      <th>2</th>\n",
       "      <td>2010-01-05</td>\n",
       "      <td>21.52</td>\n",
       "      <td>22.08</td>\n",
       "      <td>22.33</td>\n",
       "      <td>21.52</td>\n",
       "      <td>-</td>\n",
       "      <td>-0.0249</td>\n",
       "    </tr>\n",
       "    <tr>\n",
       "      <th>3</th>\n",
       "      <td>2010-01-06</td>\n",
       "      <td>20.92</td>\n",
       "      <td>21.52</td>\n",
       "      <td>21.67</td>\n",
       "      <td>20.92</td>\n",
       "      <td>-</td>\n",
       "      <td>-0.0279</td>\n",
       "    </tr>\n",
       "    <tr>\n",
       "      <th>4</th>\n",
       "      <td>2010-01-07</td>\n",
       "      <td>20.38</td>\n",
       "      <td>20.92</td>\n",
       "      <td>21.23</td>\n",
       "      <td>20.38</td>\n",
       "      <td>-</td>\n",
       "      <td>-0.0263</td>\n",
       "    </tr>\n",
       "    <tr>\n",
       "      <th>...</th>\n",
       "      <td>...</td>\n",
       "      <td>...</td>\n",
       "      <td>...</td>\n",
       "      <td>...</td>\n",
       "      <td>...</td>\n",
       "      <td>...</td>\n",
       "      <td>...</td>\n",
       "    </tr>\n",
       "    <tr>\n",
       "      <th>3136</th>\n",
       "      <td>2022-01-19</td>\n",
       "      <td>22.79</td>\n",
       "      <td>22.45</td>\n",
       "      <td>23.50</td>\n",
       "      <td>21.70</td>\n",
       "      <td>1.25K</td>\n",
       "      <td>0.0075</td>\n",
       "    </tr>\n",
       "    <tr>\n",
       "      <th>3137</th>\n",
       "      <td>2022-01-20</td>\n",
       "      <td>24.97</td>\n",
       "      <td>24.00</td>\n",
       "      <td>25.88</td>\n",
       "      <td>22.40</td>\n",
       "      <td>105.91K</td>\n",
       "      <td>0.0955</td>\n",
       "    </tr>\n",
       "    <tr>\n",
       "      <th>3138</th>\n",
       "      <td>2022-01-21</td>\n",
       "      <td>27.31</td>\n",
       "      <td>25.50</td>\n",
       "      <td>27.60</td>\n",
       "      <td>24.90</td>\n",
       "      <td>193.94K</td>\n",
       "      <td>0.0938</td>\n",
       "    </tr>\n",
       "    <tr>\n",
       "      <th>3139</th>\n",
       "      <td>2022-01-23</td>\n",
       "      <td>26.63</td>\n",
       "      <td>27.20</td>\n",
       "      <td>27.28</td>\n",
       "      <td>26.58</td>\n",
       "      <td>-</td>\n",
       "      <td>-0.0248</td>\n",
       "    </tr>\n",
       "    <tr>\n",
       "      <th>3140</th>\n",
       "      <td>2022-01-24</td>\n",
       "      <td>26.28</td>\n",
       "      <td>26.58</td>\n",
       "      <td>26.73</td>\n",
       "      <td>26.23</td>\n",
       "      <td>-</td>\n",
       "      <td>-0.0131</td>\n",
       "    </tr>\n",
       "  </tbody>\n",
       "</table>\n",
       "<p>3141 rows × 7 columns</p>\n",
       "</div>"
      ],
      "text/plain": [
       "           Date  Price   Open   High    Low     Vol.  Change %\n",
       "0    2010-01-01  23.02  23.02  23.02  23.02        -    0.0000\n",
       "1    2010-01-04  22.08  23.02  23.02  22.08        -   -0.0413\n",
       "2    2010-01-05  21.52  22.08  22.33  21.52        -   -0.0249\n",
       "3    2010-01-06  20.92  21.52  21.67  20.92        -   -0.0279\n",
       "4    2010-01-07  20.38  20.92  21.23  20.38        -   -0.0263\n",
       "...         ...    ...    ...    ...    ...      ...       ...\n",
       "3136 2022-01-19  22.79  22.45  23.50  21.70    1.25K    0.0075\n",
       "3137 2022-01-20  24.97  24.00  25.88  22.40  105.91K    0.0955\n",
       "3138 2022-01-21  27.31  25.50  27.60  24.90  193.94K    0.0938\n",
       "3139 2022-01-23  26.63  27.20  27.28  26.58        -   -0.0248\n",
       "3140 2022-01-24  26.28  26.58  26.73  26.23        -   -0.0131\n",
       "\n",
       "[3141 rows x 7 columns]"
      ]
     },
     "execution_count": 4,
     "metadata": {},
     "output_type": "execute_result"
    }
   ],
   "source": [
    "df"
   ]
  },
  {
   "cell_type": "code",
   "execution_count": 5,
   "id": "38da02d5",
   "metadata": {},
   "outputs": [],
   "source": [
    "df['Date']=pd.to_datetime(df['Date'])"
   ]
  },
  {
   "cell_type": "code",
   "execution_count": 6,
   "id": "a5c2e9f2",
   "metadata": {},
   "outputs": [
    {
     "data": {
      "text/plain": [
       "Text(0, 0.5, 'Change in %')"
      ]
     },
     "execution_count": 6,
     "metadata": {},
     "output_type": "execute_result"
    },
    {
     "data": {
      "image/png": "[encoded data removed]",
      "text/plain": [
       "<Figure size 432x288 with 1 Axes>"
      ]
     },
     "metadata": {
      "needs_background": "light"
     },
     "output_type": "display_data"
    }
   ],
   "source": [
    "import matplotlib.pyplot as plt\n",
    "plt.plot(df['Date'], df['Change %'])\n",
    "plt.xlabel(\"Year\")\n",
    "plt.ylabel(\"Change in %\")"
   ]
  },
  {
   "cell_type": "code",
   "execution_count": 7,
   "id": "2382188a",
   "metadata": {},
   "outputs": [],
   "source": [
    "x=scale(df['Change %'])"
   ]
  },
  {
   "cell_type": "code",
   "execution_count": 8,
   "id": "c2b0bd42",
   "metadata": {},
   "outputs": [
    {
     "data": {
      "text/plain": [
       "array([-0.02985478, -0.68105128, -0.42246478, ...,  1.44913387,\n",
       "       -0.42088803, -0.23640863])"
      ]
     },
     "execution_count": 8,
     "metadata": {},
     "output_type": "execute_result"
    }
   ],
   "source": [
    "x"
   ]
  },
  {
   "cell_type": "code",
   "execution_count": 9,
   "id": "d2cb7909",
   "metadata": {},
   "outputs": [],
   "source": [
    "x=x.reshape(-1,1)"
   ]
  },
  {
   "cell_type": "code",
   "execution_count": 10,
   "id": "ca679d63",
   "metadata": {},
   "outputs": [
    {
     "data": {
      "text/plain": [
       "(3141, 1)"
      ]
     },
     "execution_count": 10,
     "metadata": {},
     "output_type": "execute_result"
    }
   ],
   "source": [
    "x.shape"
   ]
  },
  {
   "cell_type": "code",
   "execution_count": 11,
   "id": "ea10a585",
   "metadata": {},
   "outputs": [
    {
     "name": "stdout",
     "output_type": "stream",
     "text": [
      "KMeans(n_clusters=1)\n"
     ]
    },
    {
     "name": "stderr",
     "output_type": "stream",
     "text": [
      "C:\\ProgramData\\Anaconda3\\lib\\site-packages\\sklearn\\cluster\\_kmeans.py:881: UserWarning: KMeans is known to have a memory leak on Windows with MKL, when there are less chunks than available threads. You can avoid it by setting the environment variable OMP_NUM_THREADS=13.\n",
      "  warnings.warn(\n"
     ]
    }
   ],
   "source": [
    "kmeans = KMeans(n_clusters = 1).fit(x)\n",
    "print(kmeans)"
   ]
  },
  {
   "cell_type": "code",
   "execution_count": 12,
   "id": "b1a83256",
   "metadata": {},
   "outputs": [
    {
     "name": "stdout",
     "output_type": "stream",
     "text": [
      "[[-2.82769315e-19]]\n"
     ]
    }
   ],
   "source": [
    "center=kmeans.cluster_centers_\n",
    "print(center)"
   ]
  },
  {
   "cell_type": "code",
   "execution_count": 13,
   "id": "398c49ac",
   "metadata": {},
   "outputs": [],
   "source": [
    "distance=sqrt((x-center)**2)"
   ]
  },
  {
   "cell_type": "code",
   "execution_count": 14,
   "id": "ffd2fbf9",
   "metadata": {},
   "outputs": [
    {
     "data": {
      "text/plain": [
       "array([[0.02985478],\n",
       "       [0.68105128],\n",
       "       [0.42246478],\n",
       "       ...,\n",
       "       [1.44913387],\n",
       "       [0.42088803],\n",
       "       [0.23640863]])"
      ]
     },
     "execution_count": 14,
     "metadata": {},
     "output_type": "execute_result"
    }
   ],
   "source": [
    "distance"
   ]
  },
  {
   "cell_type": "code",
   "execution_count": 39,
   "id": "e383130d",
   "metadata": {},
   "outputs": [],
   "source": [
    "order_index = argsort(distance, axis = 0)\n",
    "indexes = order_index[-100:]"
   ]
  },
  {
   "cell_type": "code",
   "execution_count": 40,
   "id": "d3e967c1",
   "metadata": {
    "scrolled": true
   },
   "outputs": [
    {
     "data": {
      "text/plain": [
       "array([[ 965],\n",
       "       [ 246],\n",
       "       [1219],\n",
       "       [2423],\n",
       "       [2435],\n",
       "       [ 222],\n",
       "       [3100],\n",
       "       [1545],\n",
       "       [2312],\n",
       "       [1727],\n",
       "       [2955],\n",
       "       [2644],\n",
       "       [1466],\n",
       "       [  91],\n",
       "       [2660],\n",
       "       [1641],\n",
       "       [  75],\n",
       "       [3099],\n",
       "       [1262],\n",
       "       [2914],\n",
       "       [ 836],\n",
       "       [  87],\n",
       "       [ 763],\n",
       "       [ 409],\n",
       "       [1864],\n",
       "       [2774],\n",
       "       [  49],\n",
       "       [1766],\n",
       "       [2257],\n",
       "       [2091],\n",
       "       [2639],\n",
       "       [2567],\n",
       "       [2892],\n",
       "       [1266],\n",
       "       [ 837],\n",
       "       [2495],\n",
       "       [ 177],\n",
       "       [ 410],\n",
       "       [2636],\n",
       "       [2899],\n",
       "       [2609],\n",
       "       [ 801],\n",
       "       [2691],\n",
       "       [2613],\n",
       "       [2980],\n",
       "       [2764],\n",
       "       [2958],\n",
       "       [1408],\n",
       "       [1966],\n",
       "       [ 416],\n",
       "       [2095],\n",
       "       [2656],\n",
       "       [3026],\n",
       "       [2542],\n",
       "       [1670],\n",
       "       [ 329],\n",
       "       [2476],\n",
       "       [2427],\n",
       "       [2890],\n",
       "       [ 764],\n",
       "       [1969],\n",
       "       [2191],\n",
       "       [1659],\n",
       "       [3072],\n",
       "       [2587],\n",
       "       [3003],\n",
       "       [2953],\n",
       "       [1528],\n",
       "       [1725],\n",
       "       [2411],\n",
       "       [1799],\n",
       "       [2488],\n",
       "       [ 565],\n",
       "       [1267],\n",
       "       [2646],\n",
       "       [2390],\n",
       "       [2877],\n",
       "       [ 413],\n",
       "       [ 406],\n",
       "       [3092],\n",
       "       [ 408],\n",
       "       [2649],\n",
       "       [2271],\n",
       "       [ 475],\n",
       "       [  13],\n",
       "       [1448],\n",
       "       [1621],\n",
       "       [ 674],\n",
       "       [2093],\n",
       "       [1903],\n",
       "       [3098],\n",
       "       [2100],\n",
       "       [ 835],\n",
       "       [1964],\n",
       "       [  85],\n",
       "       [1668],\n",
       "       [2651],\n",
       "       [1688],\n",
       "       [2714],\n",
       "       [2092]], dtype=int64)"
      ]
     },
     "execution_count": 40,
     "metadata": {},
     "output_type": "execute_result"
    }
   ],
   "source": [
    "indexes"
   ]
  },
  {
   "cell_type": "code",
   "execution_count": 41,
   "id": "d4bf6c63",
   "metadata": {
    "scrolled": true
   },
   "outputs": [
    {
     "data": {
      "text/plain": [
       "array([[[-2.32559836]],\n",
       "\n",
       "       [[ 2.32738192]],\n",
       "\n",
       "       [[ 2.35418662]],\n",
       "\n",
       "       [[ 2.35734011]],\n",
       "\n",
       "       [[ 2.40148903]],\n",
       "\n",
       "       [[ 2.40779602]],\n",
       "\n",
       "       [[ 2.44248445]],\n",
       "\n",
       "       [[ 2.45352168]],\n",
       "\n",
       "       [[ 2.47086589]],\n",
       "\n",
       "       [[ 2.49136361]],\n",
       "\n",
       "       [[-2.50534751]],\n",
       "\n",
       "       [[ 2.52920553]],\n",
       "\n",
       "       [[-2.53845919]],\n",
       "\n",
       "       [[ 2.56547071]],\n",
       "\n",
       "       [[ 2.56547071]],\n",
       "\n",
       "       [[ 2.57650794]],\n",
       "\n",
       "       [[ 2.58596842]],\n",
       "\n",
       "       [[-2.60625931]],\n",
       "\n",
       "       [[ 2.61592662]],\n",
       "\n",
       "       [[ 2.62381035]],\n",
       "\n",
       "       [[-2.62675702]],\n",
       "\n",
       "       [[-2.64410124]],\n",
       "\n",
       "       [[ 2.65376854]],\n",
       "\n",
       "       [[-2.67721293]],\n",
       "\n",
       "       [[ 2.68845698]],\n",
       "\n",
       "       [[ 2.70107095]],\n",
       "\n",
       "       [[ 2.71526167]],\n",
       "\n",
       "       [[-2.72293859]],\n",
       "\n",
       "       [[ 2.7294524 ]],\n",
       "\n",
       "       [[ 2.74837336]],\n",
       "\n",
       "       [[ 2.75941059]],\n",
       "\n",
       "       [[ 2.77517806]],\n",
       "\n",
       "       [[-2.77970148]],\n",
       "\n",
       "       [[ 2.78621529]],\n",
       "\n",
       "       [[ 2.79567577]],\n",
       "\n",
       "       [[ 2.84140143]],\n",
       "\n",
       "       [[ 2.86189914]],\n",
       "\n",
       "       [[ 2.89343408]],\n",
       "\n",
       "       [[ 2.90447131]],\n",
       "\n",
       "       [[ 2.92654577]],\n",
       "\n",
       "       [[ 2.9344295 ]],\n",
       "\n",
       "       [[ 2.94388998]],\n",
       "\n",
       "       [[ 2.94546673]],\n",
       "\n",
       "       [[ 2.97542492]],\n",
       "\n",
       "       [[ 2.9880389 ]],\n",
       "\n",
       "       [[ 2.99434589]],\n",
       "\n",
       "       [[ 3.00222962]],\n",
       "\n",
       "       [[ 3.062146  ]],\n",
       "\n",
       "       [[-3.07455316]],\n",
       "\n",
       "       [[ 3.07633673]],\n",
       "\n",
       "       [[ 3.11260191]],\n",
       "\n",
       "       [[-3.12500906]],\n",
       "\n",
       "       [[ 3.1662113 ]],\n",
       "\n",
       "       [[ 3.16778805]],\n",
       "\n",
       "       [[-3.2101534 ]],\n",
       "\n",
       "       [[ 3.22297419]],\n",
       "\n",
       "       [[ 3.24347191]],\n",
       "\n",
       "       [[ 3.29550455]],\n",
       "\n",
       "       [[ 3.30654178]],\n",
       "\n",
       "       [[-3.3110652 ]],\n",
       "\n",
       "       [[ 3.31127202]],\n",
       "\n",
       "       [[ 3.323886  ]],\n",
       "\n",
       "       [[ 3.39010937]],\n",
       "\n",
       "       [[ 3.40903034]],\n",
       "\n",
       "       [[ 3.43583503]],\n",
       "\n",
       "       [[ 3.454756  ]],\n",
       "\n",
       "       [[ 3.48471419]],\n",
       "\n",
       "       [[ 3.50363515]],\n",
       "\n",
       "       [[ 3.62346792]],\n",
       "\n",
       "       [[ 3.62662142]],\n",
       "\n",
       "       [[ 3.6628866 ]],\n",
       "\n",
       "       [[ 3.71491925]],\n",
       "\n",
       "       [[ 3.73541696]],\n",
       "\n",
       "       [[-3.74940086]],\n",
       "\n",
       "       [[ 3.76064491]],\n",
       "\n",
       "       [[ 3.76852864]],\n",
       "\n",
       "       [[ 3.77010539]],\n",
       "\n",
       "       [[-3.78881953]],\n",
       "\n",
       "       [[ 3.88047768]],\n",
       "\n",
       "       [[ 3.98454298]],\n",
       "\n",
       "       [[ 3.99715695]],\n",
       "\n",
       "       [[ 4.03499888]],\n",
       "\n",
       "       [[ 4.06811056]],\n",
       "\n",
       "       [[ 4.09333852]],\n",
       "\n",
       "       [[ 4.10437574]],\n",
       "\n",
       "       [[ 4.10595249]],\n",
       "\n",
       "       [[ 4.15956189]],\n",
       "\n",
       "       [[ 4.30935285]],\n",
       "\n",
       "       [[-4.46682073]],\n",
       "\n",
       "       [[ 4.5427114 ]],\n",
       "\n",
       "       [[ 4.63731622]],\n",
       "\n",
       "       [[-4.84839349]],\n",
       "\n",
       "       [[ 4.8549073 ]],\n",
       "\n",
       "       [[ 5.09614958]],\n",
       "\n",
       "       [[ 5.16552645]],\n",
       "\n",
       "       [[ 5.61332258]],\n",
       "\n",
       "       [[ 5.63697379]],\n",
       "\n",
       "       [[ 5.66850873]],\n",
       "\n",
       "       [[ 7.51645616]],\n",
       "\n",
       "       [[17.74639044]]])"
      ]
     },
     "execution_count": 41,
     "metadata": {},
     "output_type": "execute_result"
    }
   ],
   "source": [
    "values=x[indexes]\n",
    "values"
   ]
  },
  {
   "cell_type": "code",
   "execution_count": 43,
   "id": "4a10a50f",
   "metadata": {},
   "outputs": [
    {
     "data": {
      "image/png": "[encoded data removed]",
      "text/plain": [
       "<Figure size 432x288 with 1 Axes>"
      ]
     },
     "metadata": {
      "needs_background": "light"
     },
     "output_type": "display_data"
    }
   ],
   "source": [
    "ax=range(x.shape[0])\n",
    "\n",
    "plt.plot(ax, x)\n",
    "plt.scatter(indexes, values, color='r')\n",
    "plt.xlabel(\"Data points\")\n",
    "plt.ylabel(\"Change\")\n",
    "plt.show()"
   ]
  },
  {
   "cell_type": "code",
   "execution_count": 22,
   "id": "ce21fc67",
   "metadata": {},
   "outputs": [],
   "source": [
    "y=df['High']"
   ]
  },
  {
   "cell_type": "code",
   "execution_count": 23,
   "id": "75bfe02b",
   "metadata": {},
   "outputs": [
    {
     "data": {
      "text/plain": [
       "array([[0.49424282],\n",
       "       [0.49424282],\n",
       "       [0.39429176],\n",
       "       ...,\n",
       "       [1.15768609],\n",
       "       [1.11133198],\n",
       "       [1.03166084]])"
      ]
     },
     "execution_count": 23,
     "metadata": {},
     "output_type": "execute_result"
    }
   ],
   "source": [
    "y=scale(y)\n",
    "y=y.reshape(y.shape[0],1)\n",
    "y"
   ]
  },
  {
   "cell_type": "code",
   "execution_count": 24,
   "id": "6a524879",
   "metadata": {},
   "outputs": [
    {
     "data": {
      "text/plain": [
       "(3141, 1)"
      ]
     },
     "execution_count": 24,
     "metadata": {},
     "output_type": "execute_result"
    }
   ],
   "source": [
    "y.shape"
   ]
  },
  {
   "cell_type": "code",
   "execution_count": null,
   "id": "624f654b",
   "metadata": {},
   "outputs": [],
   "source": []
  }
 ],
 "metadata": {
  "kernelspec": {
   "display_name": "Python 3",
   "language": "python",
   "name": "python3"
  },
  "language_info": {
   "codemirror_mode": {
    "name": "ipython",
    "version": 3
   },
   "file_extension": ".py",
   "mimetype": "text/x-python",
   "name": "python",
   "nbconvert_exporter": "python",
   "pygments_lexer": "ipython3",
   "version": "3.7.11"
  }
 },
 "nbformat": 4,
 "nbformat_minor": 5
}
